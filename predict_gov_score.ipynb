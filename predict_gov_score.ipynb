{
 "cells": [
  {
   "cell_type": "markdown",
   "metadata": {},
   "source": [
    "## Step 4 - this file runs HashVectorizer on the 10K text; and constructs a pipeline with SVD to run Ridge, Random Forst Regressor to predict the missing governance score values."
   ]
  },
  {
   "cell_type": "code",
   "execution_count": 1,
   "metadata": {},
   "outputs": [],
   "source": []
  },
  {
   "cell_type": "code",
   "execution_count": 2,
   "metadata": {},
   "outputs": [],
   "source": [
    "#load master and assign train/test for predicting governance score\n",
    "\n",
    "master = pd.read_csv('master.csv')\n",
    "#master = master[~master.GOVERNANCE_SCORE.isna()]\n",
    "master['has_valid_y'] = ~master.GOVERNANCE_SCORE.isna()\n",
    "master['train'] = master.has_valid_y & (master.index < 400)\n",
    "master['test'] = master.has_valid_y & (master.index > 400)"
   ]
  },
  {
   "cell_type": "code",
   "execution_count": 3,
   "metadata": {},
   "outputs": [],
   "source": [
    "#perform hashing vectorizer w/ stop words\n",
    "\n",
    "STOP_WORDS = STOP_WORDS.difference({'he','his','her','hers'})\n",
    "STOP_WORDS = STOP_WORDS.union({'ll', 've'})\n",
    "hv = HashingVectorizer(stop_words=STOP_WORDS, ngram_range=(1,1))\n",
    "#note that kernel dies when ngrams above 1 are included"
   ]
  },
  {
   "cell_type": "code",
   "execution_count": null,
   "metadata": {},
   "outputs": [],
   "source": [
    "#kick off hashing first 1 to set sparse matrix frame\n",
    "\n",
    "batchSize = 1\n",
    "temp = master[['Symbol', 'CIK']][0:batchSize]\n",
    "temp['10K'] = ''\n",
    "\n",
    "for x in range(batchSize):\n",
    "    path = '10kfolder/' + str(temp['CIK'][x]) + '_' + temp['Symbol'][x]\n",
    "    CIK = str(temp['CIK'][x])     \n",
    "    try:\n",
    "        with open(path, 'r') as f2:\n",
    "            temp['10K'][x] = f2.read()\n",
    "    except:\n",
    "        temp['10K'][x] = ''\n",
    "            \n",
    "hashed_master = hv.fit_transform(temp['10K'])"
   ]
  },
  {
   "cell_type": "code",
   "execution_count": null,
   "metadata": {},
   "outputs": [],
   "source": [
    "#hash vectorizer for remaining obs. (running the above code in batches, accounting for first\n",
    "#batch that has already been completed) \n",
    "\n",
    "for j in range(1, (len(master))//batchSize):\n",
    "    iters = batchSize*j\n",
    "    thru = iters+batchSize\n",
    "    print(f'running{iters}-{thru}')\n",
    "\n",
    "    temp = master[['Symbol', 'CIK']][iters:thru]\n",
    "    temp['10K'] = ''\n",
    "\n",
    "    for x in range(iters, thru):\n",
    "        path = '10kfolder/' + str(temp['CIK'][x]) + '_' + temp['Symbol'][x]\n",
    "        CIK = str(temp['CIK'][x])     \n",
    "        try:\n",
    "            with open(path, 'r') as f2:\n",
    "                temp['10K'][x] = f2.read()\n",
    "        except:\n",
    "            temp['10K'][x] = ''\n",
    "            \n",
    "    hashed_temp = hv.fit_transform(temp['10K'])\n",
    "    hashed_master = scipy.sparse.vstack((hashed_master, hashed_temp))"
   ]
  },
  {
   "cell_type": "code",
   "execution_count": null,
   "metadata": {},
   "outputs": [],
   "source": [
    "scipy.sparse.save_npz('hashed', hashed_master)"
   ]
  },
  {
   "cell_type": "code",
   "execution_count": 3,
   "metadata": {},
   "outputs": [],
   "source": [
    "hashed_master = scipy.sparse.load_npz('hashed.npz')"
   ]
  },
  {
   "cell_type": "code",
   "execution_count": 4,
   "metadata": {},
   "outputs": [],
   "source": [
    "ohe = OneHotEncoder(categories='auto')\n",
    "feature_arr = ohe.fit_transform(master[['City', 'State', 'Country', 'Sector', 'Industry', 'Exchange']]).toarray()\n",
    "\n",
    "labels = []\n",
    "for x in range(len(ohe.categories_)):\n",
    "    for y in range(len(ohe.categories_[x])):\n",
    "        labels.append(ohe.categories_[x][y])\n",
    "            \n",
    "cat_features = pd.DataFrame(feature_arr, columns=labels)"
   ]
  },
  {
   "cell_type": "code",
   "execution_count": 5,
   "metadata": {},
   "outputs": [],
   "source": [
    "num_features = master[['ESG_SCORE', 'SOCIAL_SCORE', 'ENERGY_CONSUMPTION_SUB_ISS_SCR', \n",
    "                       'RENEWABLE_ENERGY_USE_SUB_ISS_SCR', 'WATER_MANAGEMENT_ISSUE_SCORE', \n",
    "                       'WORKFORCE_DIVERSITY_SUB_ISS_SCR', 'Currentprice', 'Marketcap', \n",
    "                       'Revenuegrowth', 'Fulltimeemployees']]"
   ]
  },
  {
   "cell_type": "code",
   "execution_count": 6,
   "metadata": {},
   "outputs": [],
   "source": [
    "master_features = cat_features.merge(num_features, left_index=True, right_index=True)\n",
    "master_features = master_features.fillna(0)"
   ]
  },
  {
   "cell_type": "code",
   "execution_count": 7,
   "metadata": {},
   "outputs": [],
   "source": [
    "tfidfFeatureCount = hashed_master.shape[1] \n",
    "totFeatures = hashed_master.shape[1] + master_features.shape[1]\n",
    "\n",
    "tfidf = ColumnTransformer(\n",
    "    transformers = [\n",
    "    ('tfidf', TfidfTransformer(), np.arange(tfidfFeatureCount) )],\n",
    "    remainder='passthrough'\n",
    "    )\n",
    "\n",
    "#Standard Scalar - we can use with_mean=False on tfidf as the sparse matrix mean is ~0 \n",
    "standardScale = ColumnTransformer(\n",
    "    transformers = [\n",
    "    ('standardScaleSparse', StandardScaler(with_mean=False), np.arange(tfidfFeatureCount) ),\n",
    "    ('standardScaleDense', StandardScaler(with_mean=False), np.arange(tfidfFeatureCount, totFeatures) )],\n",
    "    remainder='passthrough'\n",
    "    )\n",
    "    \n",
    "svd = ColumnTransformer(\n",
    "    transformers = [\n",
    "    ('svd', TruncatedSVD(), np.arange(totFeatures) )],\n",
    "    remainder='passthrough'\n",
    "    )\n",
    "\n",
    "pipe = Pipeline([  \n",
    "    ('tfidf', tfidf),\n",
    "    ('standardScale', standardScale),\n",
    "    ('svd', svd),\n",
    "    #('ranFor', RandomForestRegressor(n_estimators = 100))\n",
    "    ('ridge', Ridge()) \n",
    "    ])"
   ]
  },
  {
   "cell_type": "code",
   "execution_count": 8,
   "metadata": {},
   "outputs": [],
   "source": [
    "#train+test sets \n",
    "\n",
    "X_train = hashed_master[master.train] #383 x 1M\n",
    "X_test = hashed_master[master.test] #383 x 1M\n",
    "\n",
    "# append the other features on to the end of the X_train matrix \n",
    "X_train = scipy.sparse.hstack((X_train, master_features.loc[master.train].fillna(0).values))\n",
    "X_test = scipy.sparse.hstack((X_test, master_features.loc[master.test].fillna(0).values))\n",
    "\n",
    "y_train = master.loc[master.train, 'GOVERNANCE_SCORE'] \n",
    "y_test = master.loc[master.test, 'GOVERNANCE_SCORE'] "
   ]
  },
  {
   "cell_type": "code",
   "execution_count": 9,
   "metadata": {},
   "outputs": [
    {
     "name": "stdout",
     "output_type": "stream",
     "text": [
      "Fitting 5 folds for each of 2 candidates, totalling 10 fits\n"
     ]
    },
    {
     "data": {
      "text/plain": [
       "GridSearchCV(estimator=Pipeline(steps=[('tfidf',\n",
       "                                        ColumnTransformer(remainder='passthrough',\n",
       "                                                          transformers=[('tfidf',\n",
       "                                                                         TfidfTransformer(),\n",
       "                                                                         array([      0,       1,       2, ..., 1048573, 1048574, 1048575]))])),\n",
       "                                       ('standardScale',\n",
       "                                        ColumnTransformer(remainder='passthrough',\n",
       "                                                          transformers=[('standardScaleSparse',\n",
       "                                                                         StandardScaler(with_mean=False),\n",
       "                                                                         array([      0,       1,       2, ..., 1048573, 1048574, 1048575]))...\n",
       "       1048975, 1048976, 1048977, 1048978, 1048979, 1048980, 1048981,\n",
       "       1048982, 1048983, 1048984, 1048985, 1048986, 1048987, 1048988,\n",
       "       1048989, 1048990, 1048991]))])),\n",
       "                                       ('svd',\n",
       "                                        ColumnTransformer(remainder='passthrough',\n",
       "                                                          transformers=[('svd',\n",
       "                                                                         TruncatedSVD(),\n",
       "                                                                         array([      0,       1,       2, ..., 1048989, 1048990, 1048991]))])),\n",
       "                                       ('ridge', Ridge())]),\n",
       "             n_jobs=1,\n",
       "             param_grid={'ridge__alpha': [0.1],\n",
       "                         'svd__svd__n_components': [10, 15]},\n",
       "             verbose=True)"
      ]
     },
     "execution_count": 9,
     "metadata": {},
     "output_type": "execute_result"
    }
   ],
   "source": [
    "parameters = {\n",
    "    #'ranFor__max_depth': np.linspace(10, 40, 4),\n",
    "    'svd__svd__n_components': [10, 15],\n",
    "    'ridge__alpha': [1e-1]\n",
    "    }\n",
    "\n",
    "search = GridSearchCV(pipe, parameters, n_jobs=1, verbose=True)\n",
    "search.fit(X_train, y_train)"
   ]
  },
  {
   "cell_type": "code",
   "execution_count": 10,
   "metadata": {},
   "outputs": [
    {
     "name": "stdout",
     "output_type": "stream",
     "text": [
      "Best parameter (CV score=-0.081):\n",
      "{'ridge__alpha': 0.1, 'svd__svd__n_components': 10}\n"
     ]
    }
   ],
   "source": [
    "print(\"Best parameter (CV score=%0.3f):\" % search.best_score_)\n",
    "print(search.best_params_)"
   ]
  },
  {
   "cell_type": "code",
   "execution_count": 14,
   "metadata": {},
   "outputs": [],
   "source": [
    "predictions = search.predict(X_train.tocsr())"
   ]
  },
  {
   "cell_type": "code",
   "execution_count": 31,
   "metadata": {},
   "outputs": [
    {
     "data": {
      "image/png": "[encoded data removed]",
      "text/plain": [
       "<Figure size 432x288 with 1 Axes>"
      ]
     },
     "metadata": {
      "needs_background": "light"
     },
     "output_type": "display_data"
    },
    {
     "data": {
      "text/plain": [
       "<Figure size 432x288 with 0 Axes>"
      ]
     },
     "metadata": {},
     "output_type": "display_data"
    }
   ],
   "source": [
    "plt.scatter(y_train, predictions)\n",
    "plt.title('Training Set')\n",
    "plt.xlabel('True Values ')\n",
    "plt.ylabel('Predictions ')\n",
    "plt.axis('equal')\n",
    "plt.show()\n",
    "plt.savefig('pred_plot_train.jpg', bbox_inches='tight')"
   ]
  },
  {
   "cell_type": "code",
   "execution_count": 17,
   "metadata": {},
   "outputs": [],
   "source": [
    "predictionsTest = search.predict(X_test.tocsr())"
   ]
  },
  {
   "cell_type": "code",
   "execution_count": 30,
   "metadata": {},
   "outputs": [
    {
     "data": {
      "image/png": "[encoded data removed]",
      "text/plain": [
       "<Figure size 432x288 with 1 Axes>"
      ]
     },
     "metadata": {
      "needs_background": "light"
     },
     "output_type": "display_data"
    },
    {
     "data": {
      "text/plain": [
       "<Figure size 432x288 with 0 Axes>"
      ]
     },
     "metadata": {},
     "output_type": "display_data"
    }
   ],
   "source": [
    "plt.scatter(y_test, predictionsTest)\n",
    "plt.title('Testing Set')\n",
    "plt.xlabel('True Values')\n",
    "plt.ylabel('Predictions')\n",
    "plt.axis('equal')\n",
    "plt.show()\n",
    "plt.savefig('pred_plot_tst.jpg', bbox_inches='tight');"
   ]
  },
  {
   "cell_type": "code",
   "execution_count": 19,
   "metadata": {},
   "outputs": [
    {
     "name": "stdout",
     "output_type": "stream",
     "text": [
      "-0.01177241302659704\n"
     ]
    }
   ],
   "source": [
    "print(r2_score(y_test,predictionsTest))"
   ]
  },
  {
   "cell_type": "code",
   "execution_count": 21,
   "metadata": {},
   "outputs": [],
   "source": [
    "X_all = scipy.sparse.hstack((hashed_master, master_features.fillna(0).values))\n",
    "y_all_pred = search.predict(X_all.tocsr())"
   ]
  },
  {
   "cell_type": "code",
   "execution_count": 27,
   "metadata": {},
   "outputs": [],
   "source": [
    "master['gov_score_pred'] = y_all_pred.round()\n",
    "preds = master[['GOVERNANCE_SCORE', 'gov_score_pred', 'Name']]\n",
    "preds.to_csv('preds.csv')"
   ]
  }
 ],
 "metadata": {
  "kernelspec": {
   "display_name": "Python 3 (ipykernel)",
   "language": "python",
   "name": "python3"
  },
  "language_info": {
   "codemirror_mode": {
    "name": "ipython",
    "version": 3
   },
   "file_extension": ".py",
   "mimetype": "text/x-python",
   "name": "python",
   "nbconvert_exporter": "python",
   "pygments_lexer": "ipython3",
   "version": "3.11.5"
  }
 },
 "nbformat": 4,
 "nbformat_minor": 4
}
