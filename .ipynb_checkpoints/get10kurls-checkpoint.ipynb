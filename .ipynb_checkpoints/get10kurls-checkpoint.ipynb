{
 "cells": [
  {
   "cell_type": "markdown",
   "metadata": {},
   "source": [
    "## Step 1 - this file gets all URLS to 10-Ks uploaded to the gov website between STARTDATE and ENDDATE and saves these URLS in urls.txt."
   ]
  },
  {
   "cell_type": "code",
   "execution_count": 1,
   "metadata": {},
   "outputs": [
    {
     "name": "stdout",
     "output_type": "stream",
     "text": [
      "Requirement already satisfied: sec_api in /opt/conda/envs/data3/lib/python3.9/site-packages (1.0.12)\n",
      "Requirement already satisfied: requests in /opt/conda/envs/data3/lib/python3.9/site-packages (from sec_api) (2.26.0)\n",
      "Requirement already satisfied: certifi>=2017.4.17 in /opt/conda/envs/data3/lib/python3.9/site-packages (from requests->sec_api) (2022.5.18.1)\n",
      "Requirement already satisfied: idna<4,>=2.5 in /opt/conda/envs/data3/lib/python3.9/site-packages (from requests->sec_api) (3.3)\n",
      "Requirement already satisfied: charset-normalizer~=2.0.0 in /opt/conda/envs/data3/lib/python3.9/site-packages (from requests->sec_api) (2.0.12)\n",
      "Requirement already satisfied: urllib3<1.27,>=1.21.1 in /opt/conda/envs/data3/lib/python3.9/site-packages (from requests->sec_api) (1.26.9)\n",
      "Note: you may need to restart the kernel to use updated packages.\n"
     ]
    }
   ],
   "source": [
    "pip install sec_api"
   ]
  },
  {
   "cell_type": "code",
   "execution_count": 2,
   "metadata": {},
   "outputs": [],
   "source": [
    "from sec_api import QueryApi\n",
    "import requests\n",
    "from sec_api import ExtractorApi\n",
    "import re\n",
    "import pandas as pd\n",
    "import os"
   ]
  },
  {
   "cell_type": "code",
   "execution_count": 3,
   "metadata": {},
   "outputs": [],
   "source": [
    "apiKey='4288fb37e8c313f6a62599cd625c3036755d3d1419c0496ed6636df16be3890b'"
   ]
  },
  {
   "cell_type": "code",
   "execution_count": 4,
   "metadata": {},
   "outputs": [],
   "source": [
    "base_query = {\n",
    "  \"query\": { \n",
    "      \"query_string\": { \n",
    "          \"query\": \"PLACEHOLDER\", # set during runtime \n",
    "          \"time_zone\": \"America/New_York\"\n",
    "      } \n",
    "  },\n",
    "  \"from\": \"0\",\n",
    "  \"size\": \"200\", \n",
    "  \"sort\": [{ \"filedAt\": { \"order\": \"desc\" } }]\n",
    "}\n",
    "queryApi = QueryApi(api_key=apiKey)"
   ]
  },
  {
   "cell_type": "code",
   "execution_count": 5,
   "metadata": {},
   "outputs": [],
   "source": [
    "# file to write  URLs to\n",
    "FILE_NAME = \"urls.txt\"\n",
    "\n",
    "# filing type to extract URLs from\n",
    "FILING_TYPE = \"10-K\"\n",
    "\n",
    "# search range\n",
    "YEAR_START = 2022\n",
    "YEAR_END = 2019\n",
    "\n",
    "# set True to test the program and skip 90% of filings (quick run)\n",
    "# set False to download all URLs (~10m)\n",
    "QUICK_RUN = False\n",
    "\n",
    "os.remove(FILE_NAME)\n",
    "log_file = open(FILE_NAME, \"a\")\n",
    "# helper function to extract the URL of the first item\n",
    "# in the dataFiles list of a filing\n",
    "\n",
    "def get_url(filing):\n",
    "    for i in filing['documentFormatFiles']:\n",
    "        if 'description' in i and i['description'] == FILING_TYPE:\n",
    "            try:\n",
    "                return i['documentUrl'], filing['periodOfReport'], filing['cik']\n",
    "            except:\n",
    "                import ipdb; ipdb.set_trace()\n",
    "                a=1\n",
    "    return None"
   ]
  },
  {
   "cell_type": "code",
   "execution_count": 6,
   "metadata": {},
   "outputs": [
    {
     "name": "stdout",
     "output_type": "stream",
     "text": [
      "starting 2022\n",
      "formType:\"10-K\" AND filedAt:[2022-01-01 TO 2022-01-31]\n",
      "formType:\"10-K\" AND filedAt:[2022-02-01 TO 2022-02-31]\n",
      "formType:\"10-K\" AND filedAt:[2022-03-01 TO 2022-03-31]\n",
      "formType:\"10-K\" AND filedAt:[2022-04-01 TO 2022-04-31]\n",
      "formType:\"10-K\" AND filedAt:[2022-05-01 TO 2022-05-31]\n",
      "formType:\"10-K\" AND filedAt:[2022-06-01 TO 2022-06-31]\n",
      "formType:\"10-K\" AND filedAt:[2022-07-01 TO 2022-07-31]\n",
      "formType:\"10-K\" AND filedAt:[2022-08-01 TO 2022-08-31]\n",
      "formType:\"10-K\" AND filedAt:[2022-09-01 TO 2022-09-31]\n",
      "formType:\"10-K\" AND filedAt:[2022-10-01 TO 2022-10-31]\n",
      "formType:\"10-K\" AND filedAt:[2022-11-01 TO 2022-11-31]\n",
      "formType:\"10-K\" AND filedAt:[2022-12-01 TO 2022-12-31]\n",
      "starting 2021\n",
      "formType:\"10-K\" AND filedAt:[2021-01-01 TO 2021-01-31]\n",
      "formType:\"10-K\" AND filedAt:[2021-02-01 TO 2021-02-31]\n",
      "formType:\"10-K\" AND filedAt:[2021-03-01 TO 2021-03-31]\n",
      "formType:\"10-K\" AND filedAt:[2021-04-01 TO 2021-04-31]\n",
      "formType:\"10-K\" AND filedAt:[2021-05-01 TO 2021-05-31]\n",
      "formType:\"10-K\" AND filedAt:[2021-06-01 TO 2021-06-31]\n",
      "formType:\"10-K\" AND filedAt:[2021-07-01 TO 2021-07-31]\n",
      "formType:\"10-K\" AND filedAt:[2021-08-01 TO 2021-08-31]\n",
      "formType:\"10-K\" AND filedAt:[2021-09-01 TO 2021-09-31]\n",
      "formType:\"10-K\" AND filedAt:[2021-10-01 TO 2021-10-31]\n",
      "formType:\"10-K\" AND filedAt:[2021-11-01 TO 2021-11-31]\n",
      "formType:\"10-K\" AND filedAt:[2021-12-01 TO 2021-12-31]\n",
      "starting 2020\n",
      "formType:\"10-K\" AND filedAt:[2020-01-01 TO 2020-01-31]\n",
      "formType:\"10-K\" AND filedAt:[2020-02-01 TO 2020-02-31]\n",
      "formType:\"10-K\" AND filedAt:[2020-03-01 TO 2020-03-31]\n",
      "formType:\"10-K\" AND filedAt:[2020-04-01 TO 2020-04-31]\n",
      "formType:\"10-K\" AND filedAt:[2020-05-01 TO 2020-05-31]\n",
      "formType:\"10-K\" AND filedAt:[2020-06-01 TO 2020-06-31]\n",
      "formType:\"10-K\" AND filedAt:[2020-07-01 TO 2020-07-31]\n",
      "formType:\"10-K\" AND filedAt:[2020-08-01 TO 2020-08-31]\n",
      "formType:\"10-K\" AND filedAt:[2020-09-01 TO 2020-09-31]\n",
      "formType:\"10-K\" AND filedAt:[2020-10-01 TO 2020-10-31]\n",
      "formType:\"10-K\" AND filedAt:[2020-11-01 TO 2020-11-31]\n",
      "formType:\"10-K\" AND filedAt:[2020-12-01 TO 2020-12-31]\n",
      "starting 2019\n",
      "formType:\"10-K\" AND filedAt:[2019-01-01 TO 2019-01-31]\n",
      "formType:\"10-K\" AND filedAt:[2019-02-01 TO 2019-02-31]\n",
      "formType:\"10-K\" AND filedAt:[2019-03-01 TO 2019-03-31]\n",
      "formType:\"10-K\" AND filedAt:[2019-04-01 TO 2019-04-31]\n",
      "formType:\"10-K\" AND filedAt:[2019-05-01 TO 2019-05-31]\n",
      "formType:\"10-K\" AND filedAt:[2019-06-01 TO 2019-06-31]\n",
      "formType:\"10-K\" AND filedAt:[2019-07-01 TO 2019-07-31]\n",
      "formType:\"10-K\" AND filedAt:[2019-08-01 TO 2019-08-31]\n",
      "formType:\"10-K\" AND filedAt:[2019-09-01 TO 2019-09-31]\n",
      "formType:\"10-K\" AND filedAt:[2019-10-01 TO 2019-10-31]\n",
      "formType:\"10-K\" AND filedAt:[2019-11-01 TO 2019-11-31]\n",
      "formType:\"10-K\" AND filedAt:[2019-12-01 TO 2019-12-31]\n",
      "done\n"
     ]
    }
   ],
   "source": [
    "# start with filings filed in 2022, then 2021, 2019, ... up to 2010\n",
    "for year in range(YEAR_START, YEAR_END - 1, -1):\n",
    "    print(\"starting {year}\".format(year=year))\n",
    "\n",
    "  # a single search universe is represented as a month of the given year\n",
    "    for month in range(1, 13, 1):\n",
    "    # get 10-K and 10-K/A filings filed in year and month\n",
    "    # resulting query example: \"formType:\\\"10-K\\\" AND filedAt:[2021-01-01 TO 2021-01-31]\"\n",
    "        universe_query = \\\n",
    "            \"formType:\\\"{filing_type}\\\" AND \".format(filing_type=FILING_TYPE) + \\\n",
    "            \"filedAt:[{year}-{month:02d}-01 TO {year}-{month:02d}-31]\" \\\n",
    "            .format(year=year, month=month)\n",
    "        print(universe_query)\n",
    "\n",
    "        # set new query universe for year-month combination\n",
    "        base_query[\"query\"][\"query_string\"][\"query\"] = universe_query\n",
    "\n",
    "        end = 200 if QUICK_RUN else 10001\n",
    "        for from_batch in range(0, end, 200):\n",
    "          # set new \"from\" starting position of search\n",
    "            base_query[\"from\"] = from_batch;\n",
    "\n",
    "            response = queryApi.get_filings(base_query)\n",
    "\n",
    "          # no more filings in search universe\n",
    "            if len(response[\"filings\"]) == 0:\n",
    "                break;\n",
    "\n",
    "          # for each filing, save the URL pointing to the first file\n",
    "          # the URL is set in the dict key \"documentUrl\" of the list \"dataFiles\"\n",
    "            urls_list = list(map(get_url, response[\"filings\"]))\n",
    "\n",
    "          # delete empty URLS\n",
    "            urls_list = list(filter(None, urls_list))\n",
    "\n",
    "          # transform list of URLs into one string by joining all list elements\n",
    "          # then add new-line character between each element\n",
    "            urls_string = \"\"\n",
    "            for i in urls_list:\n",
    "                urls_string = urls_string + \"\\n\" + \",\".join(i)\n",
    "            log_file.write(urls_string)\n",
    "\n",
    "log_file.close()\n",
    "\n",
    "print('done')"
   ]
  },
  {
   "cell_type": "code",
   "execution_count": 7,
   "metadata": {},
   "outputs": [
    {
     "name": "stdout",
     "output_type": "stream",
     "text": [
      "CIK\n",
      "1750       8240\n",
      "1800       1333\n",
      "2098       2263\n",
      "2178       3476\n",
      "2488       1813\n",
      "           ... \n",
      "1899236    4219\n",
      "1901876    1721\n",
      "1902266    4328\n",
      "1902733    1856\n",
      "1905655    4311\n",
      "Name: date, Length: 5902, dtype: int64\n",
      "                                                     url       date      CIK  \\\n",
      "0      https://www.sec.gov/ix?doc=/Archives/edgar/dat... 2020-12-31   728447   \n",
      "1      https://www.sec.gov/ix?doc=/Archives/edgar/dat... 2021-12-31  1035443   \n",
      "2      https://www.sec.gov/ix?doc=/Archives/edgar/dat... 2021-10-31  1181749   \n",
      "3      https://www.sec.gov/ix?doc=/Archives/edgar/dat... 2021-12-31    12927   \n",
      "4      https://www.sec.gov/ix?doc=/Archives/edgar/dat... 2021-11-30   920760   \n",
      "...                                                  ...        ...      ...   \n",
      "16398  https://www.sec.gov/ix?doc=/Archives/edgar/dat... 2019-09-30   876523   \n",
      "16399  https://www.sec.gov/Archives/edgar/data/80420/... 2019-09-30    80420   \n",
      "16400  https://www.sec.gov/Archives/edgar/data/114525... 2019-09-30  1145255   \n",
      "16401  https://www.sec.gov/ix?doc=/Archives/edgar/dat... 2019-09-30  1057060   \n",
      "16402  https://www.sec.gov/Archives/edgar/data/106953... 2019-09-30  1069533   \n",
      "\n",
      "       mostrecent  \n",
      "0               0  \n",
      "1               1  \n",
      "2               1  \n",
      "3               1  \n",
      "4               1  \n",
      "...           ...  \n",
      "16398           0  \n",
      "16399           0  \n",
      "16400           1  \n",
      "16401           0  \n",
      "16402           0  \n",
      "\n",
      "[16403 rows x 4 columns]\n"
     ]
    }
   ],
   "source": [
    "import numpy as np\n",
    "from datetime import datetime\n",
    "\n",
    "url = pd.read_csv('urls.txt', header=None)\n",
    "url.columns = ['url', 'date', 'CIK']\n",
    "url['date'] = url['date'].astype(str)\n",
    "\n",
    "#generate most recent indicator\n",
    "def convertStrToDate(s):\n",
    "    return datetime.strptime(s, '%Y-%m-%d')\n",
    "url['date'] = url['date'].apply(convertStrToDate)\n",
    "maxUrlDate = url.groupby(['CIK'])['date'].idxmax()\n",
    "print(maxUrlDate)\n",
    "url['mostrecent'] = 0\n",
    "\n",
    "url.loc[maxUrlDate.values,'mostrecent'] = 1\n",
    "print(url)"
   ]
  },
  {
   "cell_type": "code",
   "execution_count": 10,
   "metadata": {},
   "outputs": [],
   "source": [
    "master = pd.read_csv('master.csv')\n",
    "url_10k = url.merge(master, on='CIK')"
   ]
  },
  {
   "cell_type": "code",
   "execution_count": 12,
   "metadata": {},
   "outputs": [],
   "source": [
    "url_10k.to_csv('url_10k.csv') "
   ]
  }
 ],
 "metadata": {
  "kernelspec": {
   "display_name": "Python 3 (ipykernel)",
   "language": "python",
   "name": "python3"
  },
  "language_info": {
   "codemirror_mode": {
    "name": "ipython",
    "version": 3
   },
   "file_extension": ".py",
   "mimetype": "text/x-python",
   "name": "python",
   "nbconvert_exporter": "python",
   "pygments_lexer": "ipython3",
   "version": "3.11.5"
  }
 },
 "nbformat": 4,
 "nbformat_minor": 4
}
