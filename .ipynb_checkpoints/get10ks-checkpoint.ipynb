{
 "cells": [
  {
   "cell_type": "markdown",
   "metadata": {},
   "source": [
    "## Step 2 - this file takes a URL and returns as object \"info\" all text from the 10-K associated with that URL."
   ]
  },
  {
   "cell_type": "code",
   "execution_count": 4,
   "metadata": {},
   "outputs": [
    {
     "name": "stdout",
     "output_type": "stream",
     "text": [
      "Requirement already satisfied: sec_api in /opt/conda/envs/data3/lib/python3.9/site-packages (1.0.12)\n",
      "Requirement already satisfied: requests in /opt/conda/envs/data3/lib/python3.9/site-packages (from sec_api) (2.26.0)\n",
      "Requirement already satisfied: charset-normalizer~=2.0.0 in /opt/conda/envs/data3/lib/python3.9/site-packages (from requests->sec_api) (2.0.12)\n",
      "Requirement already satisfied: urllib3<1.27,>=1.21.1 in /opt/conda/envs/data3/lib/python3.9/site-packages (from requests->sec_api) (1.26.9)\n",
      "Requirement already satisfied: certifi>=2017.4.17 in /opt/conda/envs/data3/lib/python3.9/site-packages (from requests->sec_api) (2022.5.18.1)\n",
      "Requirement already satisfied: idna<4,>=2.5 in /opt/conda/envs/data3/lib/python3.9/site-packages (from requests->sec_api) (3.3)\n",
      "Note: you may need to restart the kernel to use updated packages.\n"
     ]
    }
   ],
   "source": [
    "pip install sec_api"
   ]
  },
  {
   "cell_type": "code",
   "execution_count": 5,
   "metadata": {
    "scrolled": true
   },
   "outputs": [],
   "source": [
    "from sec_api import QueryApi\n",
    "import pandas as pd\n",
    "import requests\n",
    "from sec_api import ExtractorApi\n",
    "apiKey='4288fb37e8c313f6a62599cd625c3036755d3d1419c0496ed6636df16be3890b'"
   ]
  },
  {
   "cell_type": "code",
   "execution_count": 6,
   "metadata": {},
   "outputs": [],
   "source": [
    "extractorApi = ExtractorApi(apiKey)\n",
    "info = []\n",
    "def extract_items_10k(filing_url):\n",
    "    items = [\"1\", \"1A\", \"1B\", \"2\", \"3\", \"4\", \"5\", \"6\", \"7\", \n",
    "           \"7A\", \"8\", \"9A\", \"9B\", \"10\", \"11\", \"12\", \"13\", \"14\"]\n",
    "    for item in items:\n",
    "        try:\n",
    "            section_text = extractorApi.get_section(filing_url=filing_url, \n",
    "                                              section=item, \n",
    "                                              return_type=\"text\")\n",
    "            info.append(section_text)    \n",
    "    except Exception as e:\n",
    "        print(e)\n",
    "        \n",
    "    return info"
   ]
  },
  {
   "cell_type": "code",
   "execution_count": 8,
   "metadata": {},
   "outputs": [],
   "source": [
    "# bulk download using URLs from get10kurls - \n",
    "#grab the most recent 10K filing for each company/CIK code\n",
    "\n",
    "data = pd.read_csv('url_10k.csv')\n",
    "data['CIK'] = data['CIK'].astype(str)\n",
    "path = '10kfolder/'\n",
    "for x in range(len(data)):\n",
    "    if data['mostrecent'][x] == 1:\n",
    "        log_file = open(path+data['CIK'][x]+'_'+data['Symbol'][x], \"a\")\n",
    "        info = extract_items_10k(data['url'][x])\n",
    "        log_file.write(\",\".join(info))\n",
    "        log_file.close()"
   ]
  }
 ],
 "metadata": {
  "kernelspec": {
   "display_name": "Python 3 (ipykernel)",
   "language": "python",
   "name": "python3"
  },
  "language_info": {
   "codemirror_mode": {
    "name": "ipython",
    "version": 3
   },
   "file_extension": ".py",
   "mimetype": "text/x-python",
   "name": "python",
   "nbconvert_exporter": "python",
   "pygments_lexer": "ipython3",
   "version": "3.11.5"
  }
 },
 "nbformat": 4,
 "nbformat_minor": 4
}
